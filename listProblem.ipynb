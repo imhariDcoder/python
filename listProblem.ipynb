numbers = [3,4,5,6,7,8,9,10,11,12,13,14,15,16,17,18]
numbers2 = [21,22,23,24,25]
combine = numbers + numbers2
 
for number in combine:
 if sayi%4==0:
  print(number)
